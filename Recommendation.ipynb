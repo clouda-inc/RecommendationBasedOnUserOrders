{
 "cells": [
  {
   "cell_type": "code",
   "execution_count": 1,
   "metadata": {
    "id": "sHuGNGUZMG9f"
   },
   "outputs": [],
   "source": [
    "import pandas as pd\n",
    "import numpy as np\n",
    "import json\n",
    "from sklearn.metrics.pairwise import cosine_similarity\n",
    "import datetime\n",
    "from sklearn.preprocessing import LabelEncoder"
   ]
  },
  {
   "cell_type": "code",
   "execution_count": 1,
   "metadata": {},
   "outputs": [
    {
     "name": "stdout",
     "output_type": "stream",
     "text": [
      "Collecting scikit-learn\n",
      "  Downloading scikit_learn-1.3.0-cp310-cp310-manylinux_2_17_x86_64.manylinux2014_x86_64.whl (10.8 MB)\n",
      "\u001b[2K     \u001b[90m━━━━━━━━━━━━━━━━━━━━━━━━━━━━━━━━━━━━━━━━\u001b[0m \u001b[32m10.8/10.8 MB\u001b[0m \u001b[31m7.3 MB/s\u001b[0m eta \u001b[36m0:00:00\u001b[0m00:01\u001b[0m00:01\u001b[0m\n",
      "\u001b[?25hCollecting joblib>=1.1.1\n",
      "  Downloading joblib-1.3.2-py3-none-any.whl (302 kB)\n",
      "\u001b[2K     \u001b[90m━━━━━━━━━━━━━━━━━━━━━━━━━━━━━━━━━━━━━━\u001b[0m \u001b[32m302.2/302.2 kB\u001b[0m \u001b[31m11.3 MB/s\u001b[0m eta \u001b[36m0:00:00\u001b[0m\n",
      "\u001b[?25hCollecting scipy>=1.5.0\n",
      "  Downloading scipy-1.11.2-cp310-cp310-manylinux_2_17_x86_64.manylinux2014_x86_64.whl (36.3 MB)\n",
      "\u001b[2K     \u001b[90m━━━━━━━━━━━━━━━━━━━━━━━━━━━━━━━━━━━━━━━━\u001b[0m \u001b[32m36.3/36.3 MB\u001b[0m \u001b[31m15.5 MB/s\u001b[0m eta \u001b[36m0:00:00\u001b[0m00:01\u001b[0m00:01\u001b[0m\n",
      "\u001b[?25hCollecting threadpoolctl>=2.0.0\n",
      "  Downloading threadpoolctl-3.2.0-py3-none-any.whl (15 kB)\n",
      "Requirement already satisfied: numpy>=1.17.3 in /opt/conda/lib/python3.10/site-packages (from scikit-learn) (1.24.3)\n",
      "Installing collected packages: threadpoolctl, scipy, joblib, scikit-learn\n",
      "Successfully installed joblib-1.3.2 scikit-learn-1.3.0 scipy-1.11.2 threadpoolctl-3.2.0\n",
      "\u001b[33mWARNING: Running pip as the 'root' user can result in broken permissions and conflicting behaviour with the system package manager. It is recommended to use a virtual environment instead: https://pip.pypa.io/warnings/venv\u001b[0m\u001b[33m\n",
      "\u001b[0mNote: you may need to restart the kernel to use updated packages.\n"
     ]
    }
   ],
   "source": [
    "pip install scikit-learn"
   ]
  },
  {
   "cell_type": "code",
   "execution_count": 2,
   "metadata": {},
   "outputs": [
    {
     "name": "stdout",
     "output_type": "stream",
     "text": [
      "Collecting pandas\n",
      "  Downloading pandas-2.0.3-cp310-cp310-manylinux_2_17_x86_64.manylinux2014_x86_64.whl (12.3 MB)\n",
      "\u001b[2K     \u001b[90m━━━━━━━━━━━━━━━━━━━━━━━━━━━━━━━━━━━━━━━━\u001b[0m \u001b[32m12.3/12.3 MB\u001b[0m \u001b[31m7.5 MB/s\u001b[0m eta \u001b[36m0:00:00\u001b[0m00:01\u001b[0m00:01\u001b[0m\n",
      "\u001b[?25hRequirement already satisfied: python-dateutil>=2.8.2 in /opt/conda/lib/python3.10/site-packages (from pandas) (2.8.2)\n",
      "Requirement already satisfied: tzdata>=2022.1 in /opt/conda/lib/python3.10/site-packages (from pandas) (2023.3)\n",
      "Requirement already satisfied: pytz>=2020.1 in /opt/conda/lib/python3.10/site-packages (from pandas) (2022.7)\n",
      "Requirement already satisfied: numpy>=1.21.0 in /opt/conda/lib/python3.10/site-packages (from pandas) (1.24.3)\n",
      "Requirement already satisfied: six>=1.5 in /opt/conda/lib/python3.10/site-packages (from python-dateutil>=2.8.2->pandas) (1.16.0)\n",
      "Installing collected packages: pandas\n",
      "Successfully installed pandas-2.0.3\n",
      "\u001b[33mWARNING: Running pip as the 'root' user can result in broken permissions and conflicting behaviour with the system package manager. It is recommended to use a virtual environment instead: https://pip.pypa.io/warnings/venv\u001b[0m\u001b[33m\n",
      "\u001b[0mNote: you may need to restart the kernel to use updated packages.\n"
     ]
    }
   ],
   "source": [
    "pip install pandas"
   ]
  },
  {
   "cell_type": "code",
   "execution_count": 2,
   "metadata": {
    "colab": {
     "base_uri": "https://localhost:8080/",
     "height": 206
    },
    "id": "djbU_uCnRK-t",
    "outputId": "41a2acc0-ea26-4a35-daca-53cc10a48f7a"
   },
   "outputs": [
    {
     "data": {
      "text/html": [
       "<div>\n",
       "<style scoped>\n",
       "    .dataframe tbody tr th:only-of-type {\n",
       "        vertical-align: middle;\n",
       "    }\n",
       "\n",
       "    .dataframe tbody tr th {\n",
       "        vertical-align: top;\n",
       "    }\n",
       "\n",
       "    .dataframe thead th {\n",
       "        text-align: right;\n",
       "    }\n",
       "</style>\n",
       "<table border=\"1\" class=\"dataframe\">\n",
       "  <thead>\n",
       "    <tr style=\"text-align: right;\">\n",
       "      <th></th>\n",
       "      <th>orderNumber</th>\n",
       "      <th>orderedDate</th>\n",
       "      <th>customerID</th>\n",
       "      <th>customerName</th>\n",
       "      <th>asin</th>\n",
       "    </tr>\n",
       "  </thead>\n",
       "  <tbody>\n",
       "    <tr>\n",
       "      <th>0</th>\n",
       "      <td>93f35a6b9</td>\n",
       "      <td>09 22, 2013</td>\n",
       "      <td>A1BB77SEBQT8VX</td>\n",
       "      <td>Darrow H Ankrum II</td>\n",
       "      <td>['B00007GDFV']</td>\n",
       "    </tr>\n",
       "    <tr>\n",
       "      <th>1</th>\n",
       "      <td>d6ffc1262</td>\n",
       "      <td>07 17, 2013</td>\n",
       "      <td>AHWOW7D1ABO9C</td>\n",
       "      <td>rosieO</td>\n",
       "      <td>['B00007GDFV']</td>\n",
       "    </tr>\n",
       "    <tr>\n",
       "      <th>2</th>\n",
       "      <td>b52b6a408</td>\n",
       "      <td>04 13, 2013</td>\n",
       "      <td>AKS3GULZE0HFC</td>\n",
       "      <td>M. Waltman</td>\n",
       "      <td>['B00007GDFV']</td>\n",
       "    </tr>\n",
       "    <tr>\n",
       "      <th>3</th>\n",
       "      <td>d6eba872b</td>\n",
       "      <td>03 9, 2013</td>\n",
       "      <td>A38NS6NF6WPXS</td>\n",
       "      <td>BTDoxies</td>\n",
       "      <td>['B00007GDFV']</td>\n",
       "    </tr>\n",
       "    <tr>\n",
       "      <th>4</th>\n",
       "      <td>87e6fdc25</td>\n",
       "      <td>01 27, 2013</td>\n",
       "      <td>A1KOKO3HTSAI1H</td>\n",
       "      <td>Robin Howard</td>\n",
       "      <td>['B00007GDFV']</td>\n",
       "    </tr>\n",
       "  </tbody>\n",
       "</table>\n",
       "</div>"
      ],
      "text/plain": [
       "  orderNumber  orderedDate      customerID        customerName            asin\n",
       "0   93f35a6b9  09 22, 2013  A1BB77SEBQT8VX  Darrow H Ankrum II  ['B00007GDFV']\n",
       "1   d6ffc1262  07 17, 2013   AHWOW7D1ABO9C              rosieO  ['B00007GDFV']\n",
       "2   b52b6a408  04 13, 2013   AKS3GULZE0HFC          M. Waltman  ['B00007GDFV']\n",
       "3   d6eba872b   03 9, 2013   A38NS6NF6WPXS            BTDoxies  ['B00007GDFV']\n",
       "4   87e6fdc25  01 27, 2013  A1KOKO3HTSAI1H        Robin Howard  ['B00007GDFV']"
      ]
     },
     "execution_count": 2,
     "metadata": {},
     "output_type": "execute_result"
    }
   ],
   "source": [
    "rev_df = pd.read_csv('datasets/User_Orders.csv')\n",
    "\n",
    "rev_df.head()"
   ]
  },
  {
   "cell_type": "code",
   "execution_count": 3,
   "metadata": {},
   "outputs": [
    {
     "name": "stdout",
     "output_type": "stream",
     "text": [
      "Number of rows: 180109\n"
     ]
    }
   ],
   "source": [
    "# Get the number of rows using the shape attribute\n",
    "num_rows = rev_df.shape[0]\n",
    "print(\"Number of rows:\", num_rows)"
   ]
  },
  {
   "cell_type": "code",
   "execution_count": 4,
   "metadata": {},
   "outputs": [
    {
     "name": "stdout",
     "output_type": "stream",
     "text": [
      "Number of rows in the first half subset: 90054\n"
     ]
    }
   ],
   "source": [
    "# Calculate the number of rows for the first half\n",
    "half_rows = num_rows // 2\n",
    "\n",
    "# Create a subset of the DataFrame containing the first half\n",
    "first_half_df = rev_df.iloc[:half_rows]\n",
    "\n",
    "# Get the number of rows in the first half subset\n",
    "num_rows_first_half = first_half_df.shape[0]\n",
    "print(\"Number of rows in the first half subset:\", num_rows_first_half)"
   ]
  },
  {
   "cell_type": "code",
   "execution_count": 5,
   "metadata": {
    "colab": {
     "base_uri": "https://localhost:8080/",
     "height": 423
    },
    "id": "DX8sQMmgUyIP",
    "outputId": "7cb2484c-6532-48b1-d054-da497a25a22b"
   },
   "outputs": [
    {
     "data": {
      "text/html": [
       "<div>\n",
       "<style scoped>\n",
       "    .dataframe tbody tr th:only-of-type {\n",
       "        vertical-align: middle;\n",
       "    }\n",
       "\n",
       "    .dataframe tbody tr th {\n",
       "        vertical-align: top;\n",
       "    }\n",
       "\n",
       "    .dataframe thead th {\n",
       "        text-align: right;\n",
       "    }\n",
       "</style>\n",
       "<table border=\"1\" class=\"dataframe\">\n",
       "  <thead>\n",
       "    <tr style=\"text-align: right;\">\n",
       "      <th></th>\n",
       "      <th>orderNumber</th>\n",
       "      <th>asin</th>\n",
       "    </tr>\n",
       "  </thead>\n",
       "  <tbody>\n",
       "    <tr>\n",
       "      <th>0</th>\n",
       "      <td>93f35a6b9</td>\n",
       "      <td>['B00007GDFV']</td>\n",
       "    </tr>\n",
       "    <tr>\n",
       "      <th>1</th>\n",
       "      <td>d6ffc1262</td>\n",
       "      <td>['B00007GDFV']</td>\n",
       "    </tr>\n",
       "    <tr>\n",
       "      <th>2</th>\n",
       "      <td>b52b6a408</td>\n",
       "      <td>['B00007GDFV']</td>\n",
       "    </tr>\n",
       "    <tr>\n",
       "      <th>3</th>\n",
       "      <td>d6eba872b</td>\n",
       "      <td>['B00007GDFV']</td>\n",
       "    </tr>\n",
       "    <tr>\n",
       "      <th>4</th>\n",
       "      <td>87e6fdc25</td>\n",
       "      <td>['B00007GDFV']</td>\n",
       "    </tr>\n",
       "    <tr>\n",
       "      <th>...</th>\n",
       "      <td>...</td>\n",
       "      <td>...</td>\n",
       "    </tr>\n",
       "    <tr>\n",
       "      <th>180104</th>\n",
       "      <td>afad3a759</td>\n",
       "      <td>['B01HIX20DQ']</td>\n",
       "    </tr>\n",
       "    <tr>\n",
       "      <th>180105</th>\n",
       "      <td>7202904a2</td>\n",
       "      <td>['B01HIX20DQ']</td>\n",
       "    </tr>\n",
       "    <tr>\n",
       "      <th>180106</th>\n",
       "      <td>6e2adc762</td>\n",
       "      <td>['B01HIYPFXC']</td>\n",
       "    </tr>\n",
       "    <tr>\n",
       "      <th>180107</th>\n",
       "      <td>a9f56573f</td>\n",
       "      <td>['B01HJ6HHD0']</td>\n",
       "    </tr>\n",
       "    <tr>\n",
       "      <th>180108</th>\n",
       "      <td>d1f0bddaa</td>\n",
       "      <td>['B01HJ6HHD0']</td>\n",
       "    </tr>\n",
       "  </tbody>\n",
       "</table>\n",
       "<p>180109 rows × 2 columns</p>\n",
       "</div>"
      ],
      "text/plain": [
       "       orderNumber            asin\n",
       "0        93f35a6b9  ['B00007GDFV']\n",
       "1        d6ffc1262  ['B00007GDFV']\n",
       "2        b52b6a408  ['B00007GDFV']\n",
       "3        d6eba872b  ['B00007GDFV']\n",
       "4        87e6fdc25  ['B00007GDFV']\n",
       "...            ...             ...\n",
       "180104   afad3a759  ['B01HIX20DQ']\n",
       "180105   7202904a2  ['B01HIX20DQ']\n",
       "180106   6e2adc762  ['B01HIYPFXC']\n",
       "180107   a9f56573f  ['B01HJ6HHD0']\n",
       "180108   d1f0bddaa  ['B01HJ6HHD0']\n",
       "\n",
       "[180109 rows x 2 columns]"
      ]
     },
     "execution_count": 5,
     "metadata": {},
     "output_type": "execute_result"
    }
   ],
   "source": [
    "rev_df = rev_df.drop(['orderedDate', 'customerID', 'customerName'], axis=1)\n",
    "rev_df"
   ]
  },
  {
   "cell_type": "code",
   "execution_count": 6,
   "metadata": {
    "colab": {
     "base_uri": "https://localhost:8080/",
     "height": 394
    },
    "id": "9Lrv2VQOfopG",
    "outputId": "184cbc09-c786-490c-a641-fa0742dee42a"
   },
   "outputs": [
    {
     "data": {
      "text/html": [
       "<div>\n",
       "<style scoped>\n",
       "    .dataframe tbody tr th:only-of-type {\n",
       "        vertical-align: middle;\n",
       "    }\n",
       "\n",
       "    .dataframe tbody tr th {\n",
       "        vertical-align: top;\n",
       "    }\n",
       "\n",
       "    .dataframe thead th {\n",
       "        text-align: right;\n",
       "    }\n",
       "</style>\n",
       "<table border=\"1\" class=\"dataframe\">\n",
       "  <thead>\n",
       "    <tr style=\"text-align: right;\">\n",
       "      <th></th>\n",
       "      <th>orderNumber</th>\n",
       "      <th>asin</th>\n",
       "    </tr>\n",
       "  </thead>\n",
       "  <tbody>\n",
       "    <tr>\n",
       "      <th>60</th>\n",
       "      <td>01c7ae5db</td>\n",
       "      <td>[B00007GDFV]</td>\n",
       "    </tr>\n",
       "    <tr>\n",
       "      <th>61</th>\n",
       "      <td>f737aff98</td>\n",
       "      <td>[B00007GDFV]</td>\n",
       "    </tr>\n",
       "    <tr>\n",
       "      <th>62</th>\n",
       "      <td>8e5c05feb</td>\n",
       "      <td>[B00007GDFV]</td>\n",
       "    </tr>\n",
       "    <tr>\n",
       "      <th>63</th>\n",
       "      <td>f7d950557</td>\n",
       "      <td>[B00007GDFV, B00B6AWXYE, B00EZMCOCQ]</td>\n",
       "    </tr>\n",
       "    <tr>\n",
       "      <th>64</th>\n",
       "      <td>d6b4228ed</td>\n",
       "      <td>[B00007GDFV]</td>\n",
       "    </tr>\n",
       "    <tr>\n",
       "      <th>65</th>\n",
       "      <td>eca3d5363</td>\n",
       "      <td>[B00007GDFV]</td>\n",
       "    </tr>\n",
       "    <tr>\n",
       "      <th>66</th>\n",
       "      <td>2faa6025b</td>\n",
       "      <td>[B00007GDFV]</td>\n",
       "    </tr>\n",
       "    <tr>\n",
       "      <th>67</th>\n",
       "      <td>bd7540f73</td>\n",
       "      <td>[B00007GDFV]</td>\n",
       "    </tr>\n",
       "    <tr>\n",
       "      <th>68</th>\n",
       "      <td>2cec1b58b</td>\n",
       "      <td>[B00007GDFV]</td>\n",
       "    </tr>\n",
       "    <tr>\n",
       "      <th>69</th>\n",
       "      <td>38914494c</td>\n",
       "      <td>[B00007GDFV]</td>\n",
       "    </tr>\n",
       "    <tr>\n",
       "      <th>70</th>\n",
       "      <td>13130aa4d</td>\n",
       "      <td>[B00007GDFV]</td>\n",
       "    </tr>\n",
       "  </tbody>\n",
       "</table>\n",
       "</div>"
      ],
      "text/plain": [
       "   orderNumber                                  asin\n",
       "60   01c7ae5db                          [B00007GDFV]\n",
       "61   f737aff98                          [B00007GDFV]\n",
       "62   8e5c05feb                          [B00007GDFV]\n",
       "63   f7d950557  [B00007GDFV, B00B6AWXYE, B00EZMCOCQ]\n",
       "64   d6b4228ed                          [B00007GDFV]\n",
       "65   eca3d5363                          [B00007GDFV]\n",
       "66   2faa6025b                          [B00007GDFV]\n",
       "67   bd7540f73                          [B00007GDFV]\n",
       "68   2cec1b58b                          [B00007GDFV]\n",
       "69   38914494c                          [B00007GDFV]\n",
       "70   13130aa4d                          [B00007GDFV]"
      ]
     },
     "execution_count": 6,
     "metadata": {},
     "output_type": "execute_result"
    }
   ],
   "source": [
    "rev_df['asin'] = rev_df['asin'].str.replace(\"'\", \"\")\n",
    "rev_df.iloc[60:71]"
   ]
  },
  {
   "cell_type": "code",
   "execution_count": 7,
   "metadata": {
    "colab": {
     "base_uri": "https://localhost:8080/",
     "height": 394
    },
    "id": "xXv_sU-aj5s7",
    "outputId": "e3b51b92-da0e-4a4c-fdfc-dbae0ce9a83e"
   },
   "outputs": [
    {
     "data": {
      "text/html": [
       "<div>\n",
       "<style scoped>\n",
       "    .dataframe tbody tr th:only-of-type {\n",
       "        vertical-align: middle;\n",
       "    }\n",
       "\n",
       "    .dataframe tbody tr th {\n",
       "        vertical-align: top;\n",
       "    }\n",
       "\n",
       "    .dataframe thead th {\n",
       "        text-align: right;\n",
       "    }\n",
       "</style>\n",
       "<table border=\"1\" class=\"dataframe\">\n",
       "  <thead>\n",
       "    <tr style=\"text-align: right;\">\n",
       "      <th></th>\n",
       "      <th>orderNumber</th>\n",
       "      <th>asin</th>\n",
       "    </tr>\n",
       "  </thead>\n",
       "  <tbody>\n",
       "    <tr>\n",
       "      <th>60</th>\n",
       "      <td>01c7ae5db</td>\n",
       "      <td>B00007GDFV</td>\n",
       "    </tr>\n",
       "    <tr>\n",
       "      <th>61</th>\n",
       "      <td>f737aff98</td>\n",
       "      <td>B00007GDFV</td>\n",
       "    </tr>\n",
       "    <tr>\n",
       "      <th>62</th>\n",
       "      <td>8e5c05feb</td>\n",
       "      <td>B00007GDFV</td>\n",
       "    </tr>\n",
       "    <tr>\n",
       "      <th>63</th>\n",
       "      <td>f7d950557</td>\n",
       "      <td>B00007GDFV</td>\n",
       "    </tr>\n",
       "    <tr>\n",
       "      <th>63</th>\n",
       "      <td>f7d950557</td>\n",
       "      <td>B00B6AWXYE</td>\n",
       "    </tr>\n",
       "    <tr>\n",
       "      <th>63</th>\n",
       "      <td>f7d950557</td>\n",
       "      <td>B00EZMCOCQ</td>\n",
       "    </tr>\n",
       "    <tr>\n",
       "      <th>64</th>\n",
       "      <td>d6b4228ed</td>\n",
       "      <td>B00007GDFV</td>\n",
       "    </tr>\n",
       "    <tr>\n",
       "      <th>65</th>\n",
       "      <td>eca3d5363</td>\n",
       "      <td>B00007GDFV</td>\n",
       "    </tr>\n",
       "    <tr>\n",
       "      <th>66</th>\n",
       "      <td>2faa6025b</td>\n",
       "      <td>B00007GDFV</td>\n",
       "    </tr>\n",
       "    <tr>\n",
       "      <th>67</th>\n",
       "      <td>bd7540f73</td>\n",
       "      <td>B00007GDFV</td>\n",
       "    </tr>\n",
       "    <tr>\n",
       "      <th>68</th>\n",
       "      <td>2cec1b58b</td>\n",
       "      <td>B00007GDFV</td>\n",
       "    </tr>\n",
       "  </tbody>\n",
       "</table>\n",
       "</div>"
      ],
      "text/plain": [
       "   orderNumber        asin\n",
       "60   01c7ae5db  B00007GDFV\n",
       "61   f737aff98  B00007GDFV\n",
       "62   8e5c05feb  B00007GDFV\n",
       "63   f7d950557  B00007GDFV\n",
       "63   f7d950557  B00B6AWXYE\n",
       "63   f7d950557  B00EZMCOCQ\n",
       "64   d6b4228ed  B00007GDFV\n",
       "65   eca3d5363  B00007GDFV\n",
       "66   2faa6025b  B00007GDFV\n",
       "67   bd7540f73  B00007GDFV\n",
       "68   2cec1b58b  B00007GDFV"
      ]
     },
     "execution_count": 7,
     "metadata": {},
     "output_type": "execute_result"
    }
   ],
   "source": [
    "# Remove square brackets and split the string\n",
    "rev_df['asin'] = rev_df['asin'].str.strip('[]').str.split(', ')\n",
    "\n",
    "# Explode the column\n",
    "result = rev_df.explode('asin')\n",
    "result.iloc[60:71]"
   ]
  },
  {
   "cell_type": "code",
   "execution_count": 8,
   "metadata": {},
   "outputs": [
    {
     "data": {
      "text/html": [
       "<div>\n",
       "<style scoped>\n",
       "    .dataframe tbody tr th:only-of-type {\n",
       "        vertical-align: middle;\n",
       "    }\n",
       "\n",
       "    .dataframe tbody tr th {\n",
       "        vertical-align: top;\n",
       "    }\n",
       "\n",
       "    .dataframe thead th {\n",
       "        text-align: right;\n",
       "    }\n",
       "</style>\n",
       "<table border=\"1\" class=\"dataframe\">\n",
       "  <thead>\n",
       "    <tr style=\"text-align: right;\">\n",
       "      <th></th>\n",
       "      <th>orderNumber</th>\n",
       "      <th>asin</th>\n",
       "    </tr>\n",
       "  </thead>\n",
       "  <tbody>\n",
       "    <tr>\n",
       "      <th>0</th>\n",
       "      <td>93f35a6b9</td>\n",
       "      <td>['B00007GDFV']</td>\n",
       "    </tr>\n",
       "    <tr>\n",
       "      <th>1</th>\n",
       "      <td>d6ffc1262</td>\n",
       "      <td>['B00007GDFV']</td>\n",
       "    </tr>\n",
       "    <tr>\n",
       "      <th>2</th>\n",
       "      <td>b52b6a408</td>\n",
       "      <td>['B00007GDFV']</td>\n",
       "    </tr>\n",
       "    <tr>\n",
       "      <th>3</th>\n",
       "      <td>d6eba872b</td>\n",
       "      <td>['B00007GDFV']</td>\n",
       "    </tr>\n",
       "    <tr>\n",
       "      <th>4</th>\n",
       "      <td>87e6fdc25</td>\n",
       "      <td>['B00007GDFV']</td>\n",
       "    </tr>\n",
       "    <tr>\n",
       "      <th>...</th>\n",
       "      <td>...</td>\n",
       "      <td>...</td>\n",
       "    </tr>\n",
       "    <tr>\n",
       "      <th>90049</th>\n",
       "      <td>596ff698b</td>\n",
       "      <td>['B00WQY61CO']</td>\n",
       "    </tr>\n",
       "    <tr>\n",
       "      <th>90050</th>\n",
       "      <td>a78101146</td>\n",
       "      <td>['B00WQY61CO']</td>\n",
       "    </tr>\n",
       "    <tr>\n",
       "      <th>90051</th>\n",
       "      <td>1731f6eac</td>\n",
       "      <td>['B00WQY61CO']</td>\n",
       "    </tr>\n",
       "    <tr>\n",
       "      <th>90052</th>\n",
       "      <td>15dc6016f</td>\n",
       "      <td>['B00WQY61CO']</td>\n",
       "    </tr>\n",
       "    <tr>\n",
       "      <th>90053</th>\n",
       "      <td>c6a29ecc5</td>\n",
       "      <td>['B00WQY61CO']</td>\n",
       "    </tr>\n",
       "  </tbody>\n",
       "</table>\n",
       "<p>90054 rows × 2 columns</p>\n",
       "</div>"
      ],
      "text/plain": [
       "      orderNumber            asin\n",
       "0       93f35a6b9  ['B00007GDFV']\n",
       "1       d6ffc1262  ['B00007GDFV']\n",
       "2       b52b6a408  ['B00007GDFV']\n",
       "3       d6eba872b  ['B00007GDFV']\n",
       "4       87e6fdc25  ['B00007GDFV']\n",
       "...           ...             ...\n",
       "90049   596ff698b  ['B00WQY61CO']\n",
       "90050   a78101146  ['B00WQY61CO']\n",
       "90051   1731f6eac  ['B00WQY61CO']\n",
       "90052   15dc6016f  ['B00WQY61CO']\n",
       "90053   c6a29ecc5  ['B00WQY61CO']\n",
       "\n",
       "[90054 rows x 2 columns]"
      ]
     },
     "execution_count": 8,
     "metadata": {},
     "output_type": "execute_result"
    }
   ],
   "source": [
    "first_half_df = first_half_df.drop(['orderedDate', 'customerID', 'customerName'], axis=1)\n",
    "first_half_df"
   ]
  },
  {
   "cell_type": "code",
   "execution_count": 9,
   "metadata": {},
   "outputs": [
    {
     "data": {
      "text/html": [
       "<div>\n",
       "<style scoped>\n",
       "    .dataframe tbody tr th:only-of-type {\n",
       "        vertical-align: middle;\n",
       "    }\n",
       "\n",
       "    .dataframe tbody tr th {\n",
       "        vertical-align: top;\n",
       "    }\n",
       "\n",
       "    .dataframe thead th {\n",
       "        text-align: right;\n",
       "    }\n",
       "</style>\n",
       "<table border=\"1\" class=\"dataframe\">\n",
       "  <thead>\n",
       "    <tr style=\"text-align: right;\">\n",
       "      <th></th>\n",
       "      <th>orderNumber</th>\n",
       "      <th>asin</th>\n",
       "    </tr>\n",
       "  </thead>\n",
       "  <tbody>\n",
       "    <tr>\n",
       "      <th>60</th>\n",
       "      <td>01c7ae5db</td>\n",
       "      <td>[B00007GDFV]</td>\n",
       "    </tr>\n",
       "    <tr>\n",
       "      <th>61</th>\n",
       "      <td>f737aff98</td>\n",
       "      <td>[B00007GDFV]</td>\n",
       "    </tr>\n",
       "    <tr>\n",
       "      <th>62</th>\n",
       "      <td>8e5c05feb</td>\n",
       "      <td>[B00007GDFV]</td>\n",
       "    </tr>\n",
       "    <tr>\n",
       "      <th>63</th>\n",
       "      <td>f7d950557</td>\n",
       "      <td>[B00007GDFV, B00B6AWXYE, B00EZMCOCQ]</td>\n",
       "    </tr>\n",
       "    <tr>\n",
       "      <th>64</th>\n",
       "      <td>d6b4228ed</td>\n",
       "      <td>[B00007GDFV]</td>\n",
       "    </tr>\n",
       "    <tr>\n",
       "      <th>65</th>\n",
       "      <td>eca3d5363</td>\n",
       "      <td>[B00007GDFV]</td>\n",
       "    </tr>\n",
       "    <tr>\n",
       "      <th>66</th>\n",
       "      <td>2faa6025b</td>\n",
       "      <td>[B00007GDFV]</td>\n",
       "    </tr>\n",
       "    <tr>\n",
       "      <th>67</th>\n",
       "      <td>bd7540f73</td>\n",
       "      <td>[B00007GDFV]</td>\n",
       "    </tr>\n",
       "    <tr>\n",
       "      <th>68</th>\n",
       "      <td>2cec1b58b</td>\n",
       "      <td>[B00007GDFV]</td>\n",
       "    </tr>\n",
       "    <tr>\n",
       "      <th>69</th>\n",
       "      <td>38914494c</td>\n",
       "      <td>[B00007GDFV]</td>\n",
       "    </tr>\n",
       "    <tr>\n",
       "      <th>70</th>\n",
       "      <td>13130aa4d</td>\n",
       "      <td>[B00007GDFV]</td>\n",
       "    </tr>\n",
       "  </tbody>\n",
       "</table>\n",
       "</div>"
      ],
      "text/plain": [
       "   orderNumber                                  asin\n",
       "60   01c7ae5db                          [B00007GDFV]\n",
       "61   f737aff98                          [B00007GDFV]\n",
       "62   8e5c05feb                          [B00007GDFV]\n",
       "63   f7d950557  [B00007GDFV, B00B6AWXYE, B00EZMCOCQ]\n",
       "64   d6b4228ed                          [B00007GDFV]\n",
       "65   eca3d5363                          [B00007GDFV]\n",
       "66   2faa6025b                          [B00007GDFV]\n",
       "67   bd7540f73                          [B00007GDFV]\n",
       "68   2cec1b58b                          [B00007GDFV]\n",
       "69   38914494c                          [B00007GDFV]\n",
       "70   13130aa4d                          [B00007GDFV]"
      ]
     },
     "execution_count": 9,
     "metadata": {},
     "output_type": "execute_result"
    }
   ],
   "source": [
    "first_half_df['asin'] = first_half_df['asin'].str.replace(\"'\", \"\")\n",
    "first_half_df.iloc[60:71]"
   ]
  },
  {
   "cell_type": "code",
   "execution_count": 10,
   "metadata": {},
   "outputs": [
    {
     "data": {
      "text/html": [
       "<div>\n",
       "<style scoped>\n",
       "    .dataframe tbody tr th:only-of-type {\n",
       "        vertical-align: middle;\n",
       "    }\n",
       "\n",
       "    .dataframe tbody tr th {\n",
       "        vertical-align: top;\n",
       "    }\n",
       "\n",
       "    .dataframe thead th {\n",
       "        text-align: right;\n",
       "    }\n",
       "</style>\n",
       "<table border=\"1\" class=\"dataframe\">\n",
       "  <thead>\n",
       "    <tr style=\"text-align: right;\">\n",
       "      <th></th>\n",
       "      <th>orderNumber</th>\n",
       "      <th>asin</th>\n",
       "    </tr>\n",
       "  </thead>\n",
       "  <tbody>\n",
       "    <tr>\n",
       "      <th>60</th>\n",
       "      <td>01c7ae5db</td>\n",
       "      <td>B00007GDFV</td>\n",
       "    </tr>\n",
       "    <tr>\n",
       "      <th>61</th>\n",
       "      <td>f737aff98</td>\n",
       "      <td>B00007GDFV</td>\n",
       "    </tr>\n",
       "    <tr>\n",
       "      <th>62</th>\n",
       "      <td>8e5c05feb</td>\n",
       "      <td>B00007GDFV</td>\n",
       "    </tr>\n",
       "    <tr>\n",
       "      <th>63</th>\n",
       "      <td>f7d950557</td>\n",
       "      <td>B00007GDFV</td>\n",
       "    </tr>\n",
       "    <tr>\n",
       "      <th>63</th>\n",
       "      <td>f7d950557</td>\n",
       "      <td>B00B6AWXYE</td>\n",
       "    </tr>\n",
       "    <tr>\n",
       "      <th>63</th>\n",
       "      <td>f7d950557</td>\n",
       "      <td>B00EZMCOCQ</td>\n",
       "    </tr>\n",
       "    <tr>\n",
       "      <th>64</th>\n",
       "      <td>d6b4228ed</td>\n",
       "      <td>B00007GDFV</td>\n",
       "    </tr>\n",
       "    <tr>\n",
       "      <th>65</th>\n",
       "      <td>eca3d5363</td>\n",
       "      <td>B00007GDFV</td>\n",
       "    </tr>\n",
       "    <tr>\n",
       "      <th>66</th>\n",
       "      <td>2faa6025b</td>\n",
       "      <td>B00007GDFV</td>\n",
       "    </tr>\n",
       "    <tr>\n",
       "      <th>67</th>\n",
       "      <td>bd7540f73</td>\n",
       "      <td>B00007GDFV</td>\n",
       "    </tr>\n",
       "    <tr>\n",
       "      <th>68</th>\n",
       "      <td>2cec1b58b</td>\n",
       "      <td>B00007GDFV</td>\n",
       "    </tr>\n",
       "  </tbody>\n",
       "</table>\n",
       "</div>"
      ],
      "text/plain": [
       "   orderNumber        asin\n",
       "60   01c7ae5db  B00007GDFV\n",
       "61   f737aff98  B00007GDFV\n",
       "62   8e5c05feb  B00007GDFV\n",
       "63   f7d950557  B00007GDFV\n",
       "63   f7d950557  B00B6AWXYE\n",
       "63   f7d950557  B00EZMCOCQ\n",
       "64   d6b4228ed  B00007GDFV\n",
       "65   eca3d5363  B00007GDFV\n",
       "66   2faa6025b  B00007GDFV\n",
       "67   bd7540f73  B00007GDFV\n",
       "68   2cec1b58b  B00007GDFV"
      ]
     },
     "execution_count": 10,
     "metadata": {},
     "output_type": "execute_result"
    }
   ],
   "source": [
    "# Remove square brackets and split the string\n",
    "first_half_df['asin'] = first_half_df['asin'].str.strip('[]').str.split(', ')\n",
    "\n",
    "# Explode the column\n",
    "first_half_result = first_half_df.explode('asin')\n",
    "first_half_result.iloc[60:71]"
   ]
  },
  {
   "cell_type": "code",
   "execution_count": 11,
   "metadata": {
    "id": "od-bh7Va9VJK"
   },
   "outputs": [],
   "source": [
    "pivot_df = first_half_result.pivot_table(index='orderNumber', columns='asin', aggfunc='size', fill_value=0)\n"
   ]
  },
  {
   "cell_type": "code",
   "execution_count": 12,
   "metadata": {
    "id": "leoYRSOb9yZ9"
   },
   "outputs": [],
   "source": [
    "# Calculate cosine similarity\n",
    "cosine_sim = cosine_similarity(pivot_df)"
   ]
  },
  {
   "cell_type": "code",
   "execution_count": 13,
   "metadata": {},
   "outputs": [
    {
     "ename": "OSError",
     "evalue": "Not enough free space to write 64877783328 bytes",
     "output_type": "error",
     "traceback": [
      "\u001b[0;31m---------------------------------------------------------------------------\u001b[0m",
      "\u001b[0;31mOSError\u001b[0m                                   Traceback (most recent call last)",
      "Cell \u001b[0;32mIn[13], line 6\u001b[0m\n\u001b[1;32m      4\u001b[0m \u001b[38;5;66;03m# Save the cosine similarity matrix to a file\u001b[39;00m\n\u001b[1;32m      5\u001b[0m cosine_sim_filename \u001b[38;5;241m=\u001b[39m \u001b[38;5;124m'\u001b[39m\u001b[38;5;124mcosine_similarity_matrix.npy\u001b[39m\u001b[38;5;124m'\u001b[39m\n\u001b[0;32m----> 6\u001b[0m \u001b[43mnp\u001b[49m\u001b[38;5;241;43m.\u001b[39;49m\u001b[43msave\u001b[49m\u001b[43m(\u001b[49m\u001b[43mcosine_sim_filename\u001b[49m\u001b[43m,\u001b[49m\u001b[43m \u001b[49m\u001b[43mcosine_sim\u001b[49m\u001b[43m)\u001b[49m\n\u001b[1;32m      7\u001b[0m \u001b[38;5;28mprint\u001b[39m(\u001b[38;5;124mf\u001b[39m\u001b[38;5;124m\"\u001b[39m\u001b[38;5;124mCosine similarity matrix saved as \u001b[39m\u001b[38;5;132;01m{\u001b[39;00mcosine_sim_filename\u001b[38;5;132;01m}\u001b[39;00m\u001b[38;5;124m\"\u001b[39m)\n",
      "File \u001b[0;32m<__array_function__ internals>:200\u001b[0m, in \u001b[0;36msave\u001b[0;34m(*args, **kwargs)\u001b[0m\n",
      "File \u001b[0;32m/opt/conda/lib/python3.10/site-packages/numpy/lib/npyio.py:522\u001b[0m, in \u001b[0;36msave\u001b[0;34m(file, arr, allow_pickle, fix_imports)\u001b[0m\n\u001b[1;32m    520\u001b[0m \u001b[38;5;28;01mwith\u001b[39;00m file_ctx \u001b[38;5;28;01mas\u001b[39;00m fid:\n\u001b[1;32m    521\u001b[0m     arr \u001b[38;5;241m=\u001b[39m np\u001b[38;5;241m.\u001b[39masanyarray(arr)\n\u001b[0;32m--> 522\u001b[0m     \u001b[38;5;28;43mformat\u001b[39;49m\u001b[38;5;241;43m.\u001b[39;49m\u001b[43mwrite_array\u001b[49m\u001b[43m(\u001b[49m\u001b[43mfid\u001b[49m\u001b[43m,\u001b[49m\u001b[43m \u001b[49m\u001b[43marr\u001b[49m\u001b[43m,\u001b[49m\u001b[43m \u001b[49m\u001b[43mallow_pickle\u001b[49m\u001b[38;5;241;43m=\u001b[39;49m\u001b[43mallow_pickle\u001b[49m\u001b[43m,\u001b[49m\n\u001b[1;32m    523\u001b[0m \u001b[43m                       \u001b[49m\u001b[43mpickle_kwargs\u001b[49m\u001b[38;5;241;43m=\u001b[39;49m\u001b[38;5;28;43mdict\u001b[39;49m\u001b[43m(\u001b[49m\u001b[43mfix_imports\u001b[49m\u001b[38;5;241;43m=\u001b[39;49m\u001b[43mfix_imports\u001b[49m\u001b[43m)\u001b[49m\u001b[43m)\u001b[49m\n",
      "File \u001b[0;32m/opt/conda/lib/python3.10/site-packages/numpy/lib/format.py:722\u001b[0m, in \u001b[0;36mwrite_array\u001b[0;34m(fp, array, version, allow_pickle, pickle_kwargs)\u001b[0m\n\u001b[1;32m    720\u001b[0m \u001b[38;5;28;01melse\u001b[39;00m:\n\u001b[1;32m    721\u001b[0m     \u001b[38;5;28;01mif\u001b[39;00m isfileobj(fp):\n\u001b[0;32m--> 722\u001b[0m         \u001b[43marray\u001b[49m\u001b[38;5;241;43m.\u001b[39;49m\u001b[43mtofile\u001b[49m\u001b[43m(\u001b[49m\u001b[43mfp\u001b[49m\u001b[43m)\u001b[49m\n\u001b[1;32m    723\u001b[0m     \u001b[38;5;28;01melse\u001b[39;00m:\n\u001b[1;32m    724\u001b[0m         \u001b[38;5;28;01mfor\u001b[39;00m chunk \u001b[38;5;129;01min\u001b[39;00m numpy\u001b[38;5;241m.\u001b[39mnditer(\n\u001b[1;32m    725\u001b[0m                 array, flags\u001b[38;5;241m=\u001b[39m[\u001b[38;5;124m'\u001b[39m\u001b[38;5;124mexternal_loop\u001b[39m\u001b[38;5;124m'\u001b[39m, \u001b[38;5;124m'\u001b[39m\u001b[38;5;124mbuffered\u001b[39m\u001b[38;5;124m'\u001b[39m, \u001b[38;5;124m'\u001b[39m\u001b[38;5;124mzerosize_ok\u001b[39m\u001b[38;5;124m'\u001b[39m],\n\u001b[1;32m    726\u001b[0m                 buffersize\u001b[38;5;241m=\u001b[39mbuffersize, order\u001b[38;5;241m=\u001b[39m\u001b[38;5;124m'\u001b[39m\u001b[38;5;124mC\u001b[39m\u001b[38;5;124m'\u001b[39m):\n",
      "\u001b[0;31mOSError\u001b[0m: Not enough free space to write 64877783328 bytes"
     ]
    }
   ],
   "source": [
    "import numpy as np\n",
    "import joblib\n",
    "\n",
    "# Save the cosine similarity matrix to a file\n",
    "cosine_sim_filename = 'cosine_similarity_matrix.npy'\n",
    "np.save(cosine_sim_filename, cosine_sim)\n",
    "print(f\"Cosine similarity matrix saved as {cosine_sim_filename}\")"
   ]
  },
  {
   "cell_type": "code",
   "execution_count": 14,
   "metadata": {
    "id": "U7htntai9zGo"
   },
   "outputs": [],
   "source": [
    "# Convert ASINs to numerical labels\n",
    "le = LabelEncoder()\n",
    "asin_labels = le.fit_transform(result['asin'])\n",
    "asin_mapping = dict(zip(le.classes_, asin_labels))"
   ]
  },
  {
   "cell_type": "code",
   "execution_count": 15,
   "metadata": {},
   "outputs": [
    {
     "name": "stdout",
     "output_type": "stream",
     "text": [
      "LabelEncoder saved as label_encoder.joblib\n",
      "ASIN mapping saved as asin_mapping.joblib\n"
     ]
    }
   ],
   "source": [
    "# Save the LabelEncoder and ASIN mapping\n",
    "le_filename = 'label_encoder.joblib'\n",
    "joblib.dump(le, le_filename)\n",
    "print(f\"LabelEncoder saved as {le_filename}\")\n",
    "\n",
    "asin_mapping_filename = 'asin_mapping.joblib'\n",
    "joblib.dump(asin_mapping, asin_mapping_filename)\n",
    "print(f\"ASIN mapping saved as {asin_mapping_filename}\")"
   ]
  },
  {
   "cell_type": "code",
   "execution_count": 14,
   "metadata": {
    "id": "VvaKyerm904H"
   },
   "outputs": [],
   "source": [
    "# Function to get product recommendations\n",
    "def get_recommendations(asin, num_recommendations=3):\n",
    "    asin_label = asin_mapping.get(asin)\n",
    "    if asin_label is None:\n",
    "        return \"ASIN not found in the dataset\"\n",
    "\n",
    "    # Calculate similarity scores for the given ASIN\n",
    "    sim_scores = list(enumerate(cosine_sim[asin_label]))\n",
    "\n",
    "    # Sort the products based on similarity scores\n",
    "    sim_scores = sorted(sim_scores, key=lambda x: x[1], reverse=True)\n",
    "\n",
    "    # Get top N similar products\n",
    "    top_products = sim_scores[1:num_recommendations+1]\n",
    "    top_product_labels = [item[0] for item in top_products]\n",
    "    top_product_asins = le.inverse_transform(top_product_labels)\n",
    "\n",
    "    return top_product_asins"
   ]
  },
  {
   "cell_type": "code",
   "execution_count": 15,
   "metadata": {
    "colab": {
     "base_uri": "https://localhost:8080/"
    },
    "id": "kxyxv2ph93be",
    "outputId": "6bf66e61-817f-4549-e824-cb81f76dc876"
   },
   "outputs": [
    {
     "name": "stdout",
     "output_type": "stream",
     "text": [
      "Top 3 recommendations for B00B6AWXYE: ['B0006NW5O0' 'B000GHRZN2' 'B000H34CL8']\n"
     ]
    }
   ],
   "source": [
    "# Example usage\n",
    "input_asin = 'B00B6AWXYE'\n",
    "recommendations = get_recommendations(input_asin)\n",
    "print(f\"Top 3 recommendations for {input_asin}: {recommendations}\")"
   ]
  },
  {
   "cell_type": "code",
   "execution_count": null,
   "metadata": {},
   "outputs": [],
   "source": []
  }
 ],
 "metadata": {
  "accelerator": "GPU",
  "colab": {
   "gpuType": "T4",
   "provenance": []
  },
  "kernelspec": {
   "display_name": "Python 3 (ipykernel)",
   "language": "python",
   "name": "python3"
  },
  "language_info": {
   "codemirror_mode": {
    "name": "ipython",
    "version": 3
   },
   "file_extension": ".py",
   "mimetype": "text/x-python",
   "name": "python",
   "nbconvert_exporter": "python",
   "pygments_lexer": "ipython3",
   "version": "3.10.11"
  }
 },
 "nbformat": 4,
 "nbformat_minor": 4
}
